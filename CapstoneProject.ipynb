{
 "cells": [
  {
   "cell_type": "markdown",
   "metadata": {},
   "source": [
    "<b> <h1> Battle of neighborhoods : Seoul, South Korea. </h1> </b>"
   ]
  },
  {
   "cell_type": "markdown",
   "metadata": {},
   "source": [
    " <h4>I. <i> Context and background </i> :</h4> "
   ]
  },
  {
   "cell_type": "markdown",
   "metadata": {},
   "source": [
    "Often times, when we make that leap of faith and move to a whole new country, we find ourselves facing the struggles of settling in and finding our way around the new environment."
   ]
  },
  {
   "cell_type": "markdown",
   "metadata": {},
   "source": [
    "May it be rent or new lifestyle habits, we get caught up into that ordeal and hustle of trying to make everything perfect that we forget about our own mental health.\n",
    "One of the many ways that let us as human beings wind down, is to simply take a stroll around the community park, visit the nearest beach or perhaps have a nice tea break at a coffee shop.\n",
    "\n",
    "With that being said, the goal of this project aims to make the process of moving easier on the end user, where the formalities of looking for the best neighborhood area will be taken care of.\n",
    "\n",
    "We will indeed compare between two random neighborhoods, and analyze the area around each neighborhood to see if it fits into the the end user's taste in the surrounding area.\n",
    "\n",
    "This analysis will based on the number of visits by people in each of those areas.\n",
    "We will use k-means clustering machine learning clustering algorithm, to cluster the venues based on their category.\n",
    "At the end of this analysis, we will know which of the two neighborhoods wins over the other."
   ]
  },
  {
   "cell_type": "markdown",
   "metadata": {},
   "source": [
    " <h4>II. <i> Datasets and APIs used </i> :</h4> "
   ]
  },
  {
   "cell_type": "markdown",
   "metadata": {},
   "source": [
    "Datasets :\n",
    "For the Seoul district areas, we will scrape the data from the wikipedia page.\n",
    "Here is the URL : https://en.wikipedia.org/wiki/List_of_postal_codes_in_South_Korea"
   ]
  },
  {
   "cell_type": "markdown",
   "metadata": {},
   "source": [
    "Foursquare API :\n",
    "We will be using the Foursquare API; The Foursquare Places API provides location based experiences with diverse information about venues, users, photos, and check-ins. The API supports real time access to places, Snap-to-Place that assigns users to specific locations, and Geo-tag."
   ]
  },
  {
   "cell_type": "code",
   "execution_count": null,
   "metadata": {},
   "outputs": [],
   "source": []
  }
 ],
 "metadata": {
  "kernelspec": {
   "display_name": "Python",
   "language": "python",
   "name": "conda-env-python-py"
  },
  "language_info": {
   "codemirror_mode": {
    "name": "ipython",
    "version": 3
   },
   "file_extension": ".py",
   "mimetype": "text/x-python",
   "name": "python",
   "nbconvert_exporter": "python",
   "pygments_lexer": "ipython3",
   "version": "3.6.7"
  }
 },
 "nbformat": 4,
 "nbformat_minor": 4
}
